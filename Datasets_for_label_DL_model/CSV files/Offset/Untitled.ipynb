{
 "cells": [
  {
   "cell_type": "code",
   "execution_count": 16,
   "id": "b9cdddec",
   "metadata": {},
   "outputs": [],
   "source": [
    ">>> import pandas as pd  \n",
    ">>> df_source1 = pd.read_csv('Platoon Controlfault_Offset_3_V2.csv') \n",
    ">>> df_source2 = pd.read_csv('Urban City Trafficfault_Offset_3_V2.csv') \n",
    ">>> df_source2[\"Label\"]=df_source1[\"Label\"]# \n",
    ">>> df_source2.to_csv('Urban City Trafficfault_Offset_3_V2.csv',index=False)"
   ]
  },
  {
   "cell_type": "code",
   "execution_count": null,
   "id": "ad586df2",
   "metadata": {},
   "outputs": [],
   "source": []
  }
 ],
 "metadata": {
  "kernelspec": {
   "display_name": "Python 3 (ipykernel)",
   "language": "python",
   "name": "python3"
  },
  "language_info": {
   "codemirror_mode": {
    "name": "ipython",
    "version": 3
   },
   "file_extension": ".py",
   "mimetype": "text/x-python",
   "name": "python",
   "nbconvert_exporter": "python",
   "pygments_lexer": "ipython3",
   "version": "3.9.7"
  }
 },
 "nbformat": 4,
 "nbformat_minor": 5
}
