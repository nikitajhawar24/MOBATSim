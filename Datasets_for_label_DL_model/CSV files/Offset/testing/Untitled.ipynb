{
 "cells": [
  {
   "cell_type": "code",
   "execution_count": 1,
   "id": "2ce9ad83",
   "metadata": {},
   "outputs": [
    {
     "name": "stdout",
     "output_type": "stream",
     "text": [
      "            Time    Speed  Label\n",
      "0       0.020005  0.00003      0\n",
      "1       0.040010  0.12006      0\n",
      "2       0.060015  0.24009      0\n",
      "3       0.080020  0.36012      0\n",
      "4       0.100025  0.48015      0\n",
      "...          ...      ...    ...\n",
      "11992  79.919980  0.00000      0\n",
      "11993  79.939985  0.00000      0\n",
      "11994  79.959990  0.00000      0\n",
      "11995  79.979995  0.00000      0\n",
      "11996  80.000000  0.00000      0\n",
      "\n",
      "[11997 rows x 3 columns]\n"
     ]
    }
   ],
   "source": [
    "import pandas as pd\n",
    "import glob\n",
    "import os\n",
    " \n",
    "path = os.getcwd()    \n",
    "# merging the files\n",
    "files = os.path.join(path,\"*.csv\")\n",
    "  \n",
    "# A list of all joined files is returned\n",
    "files = glob.glob(files)\n",
    "  \n",
    "# Finally, the files are joined\n",
    "df = pd.concat(map(pd.read_csv, files), ignore_index=True)\n",
    "print(df)\n",
    "df.to_csv('testing_Offset.csv',index=False)"
   ]
  },
  {
   "cell_type": "code",
   "execution_count": null,
   "id": "196d226e",
   "metadata": {},
   "outputs": [],
   "source": []
  }
 ],
 "metadata": {
  "kernelspec": {
   "display_name": "Python 3 (ipykernel)",
   "language": "python",
   "name": "python3"
  },
  "language_info": {
   "codemirror_mode": {
    "name": "ipython",
    "version": 3
   },
   "file_extension": ".py",
   "mimetype": "text/x-python",
   "name": "python",
   "nbconvert_exporter": "python",
   "pygments_lexer": "ipython3",
   "version": "3.9.7"
  }
 },
 "nbformat": 4,
 "nbformat_minor": 5
}
