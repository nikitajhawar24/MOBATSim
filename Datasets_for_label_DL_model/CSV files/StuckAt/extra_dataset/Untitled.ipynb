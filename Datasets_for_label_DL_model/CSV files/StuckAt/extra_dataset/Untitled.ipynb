{
 "cells": [
  {
   "cell_type": "code",
   "execution_count": 1,
   "id": "9710be99",
   "metadata": {},
   "outputs": [
    {
     "name": "stdout",
     "output_type": "stream",
     "text": [
      "            Time     Speed  Label\n",
      "0       0.020005  0.000030      0\n",
      "1       0.040010  0.120060      0\n",
      "2       0.060015  0.240090      0\n",
      "3       0.080020  0.360120      0\n",
      "4       0.100025  0.480150      0\n",
      "...          ...       ...    ...\n",
      "71977  79.919980  9.918843      0\n",
      "71978  79.939985  9.920500      0\n",
      "71979  79.959990  9.922124      0\n",
      "71980  79.979995  9.923714      0\n",
      "71981  80.000000  9.925272      0\n",
      "\n",
      "[71982 rows x 3 columns]\n"
     ]
    }
   ],
   "source": [
    "import pandas as pd\n",
    "import glob\n",
    "import os\n",
    " \n",
    "path = os.getcwd()    \n",
    "# merging the files\n",
    "files = os.path.join(path,\"*.csv\")\n",
    "  \n",
    "# A list of all joined files is returned\n",
    "files = glob.glob(files)\n",
    "  \n",
    "# Finally, the files are joined\n",
    "df = pd.concat(map(pd.read_csv, files), ignore_index=True)\n",
    "print(df)\n",
    "df.to_csv('training_extra_stuckat.csv',index=False)"
   ]
  },
  {
   "cell_type": "code",
   "execution_count": null,
   "id": "ac12a528",
   "metadata": {},
   "outputs": [],
   "source": []
  }
 ],
 "metadata": {
  "kernelspec": {
   "display_name": "Python 3 (ipykernel)",
   "language": "python",
   "name": "python3"
  },
  "language_info": {
   "codemirror_mode": {
    "name": "ipython",
    "version": 3
   },
   "file_extension": ".py",
   "mimetype": "text/x-python",
   "name": "python",
   "nbconvert_exporter": "python",
   "pygments_lexer": "ipython3",
   "version": "3.9.7"
  }
 },
 "nbformat": 4,
 "nbformat_minor": 5
}
