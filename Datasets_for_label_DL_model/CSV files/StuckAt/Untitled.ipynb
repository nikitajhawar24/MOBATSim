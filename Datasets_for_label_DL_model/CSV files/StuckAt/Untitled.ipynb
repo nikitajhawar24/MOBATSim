{
 "cells": [
  {
   "cell_type": "code",
   "execution_count": 7,
   "id": "9c9b47c4",
   "metadata": {},
   "outputs": [
    {
     "data": {
      "text/html": [
       "<div>\n",
       "<style scoped>\n",
       "    .dataframe tbody tr th:only-of-type {\n",
       "        vertical-align: middle;\n",
       "    }\n",
       "\n",
       "    .dataframe tbody tr th {\n",
       "        vertical-align: top;\n",
       "    }\n",
       "\n",
       "    .dataframe thead th {\n",
       "        text-align: right;\n",
       "    }\n",
       "</style>\n",
       "<table border=\"1\" class=\"dataframe\">\n",
       "  <thead>\n",
       "    <tr style=\"text-align: right;\">\n",
       "      <th></th>\n",
       "      <th>Time</th>\n",
       "      <th>Speed</th>\n",
       "    </tr>\n",
       "  </thead>\n",
       "  <tbody>\n",
       "    <tr>\n",
       "      <th>0</th>\n",
       "      <td>0.020005</td>\n",
       "      <td>0.000030</td>\n",
       "    </tr>\n",
       "    <tr>\n",
       "      <th>1</th>\n",
       "      <td>0.040010</td>\n",
       "      <td>0.120060</td>\n",
       "    </tr>\n",
       "    <tr>\n",
       "      <th>2</th>\n",
       "      <td>0.060015</td>\n",
       "      <td>0.240090</td>\n",
       "    </tr>\n",
       "    <tr>\n",
       "      <th>3</th>\n",
       "      <td>0.080020</td>\n",
       "      <td>0.360120</td>\n",
       "    </tr>\n",
       "    <tr>\n",
       "      <th>4</th>\n",
       "      <td>0.100025</td>\n",
       "      <td>0.480150</td>\n",
       "    </tr>\n",
       "    <tr>\n",
       "      <th>...</th>\n",
       "      <td>...</td>\n",
       "      <td>...</td>\n",
       "    </tr>\n",
       "    <tr>\n",
       "      <th>3994</th>\n",
       "      <td>79.919980</td>\n",
       "      <td>12.999358</td>\n",
       "    </tr>\n",
       "    <tr>\n",
       "      <th>3995</th>\n",
       "      <td>79.939985</td>\n",
       "      <td>12.999371</td>\n",
       "    </tr>\n",
       "    <tr>\n",
       "      <th>3996</th>\n",
       "      <td>79.959990</td>\n",
       "      <td>12.999384</td>\n",
       "    </tr>\n",
       "    <tr>\n",
       "      <th>3997</th>\n",
       "      <td>79.979995</td>\n",
       "      <td>12.999397</td>\n",
       "    </tr>\n",
       "    <tr>\n",
       "      <th>3998</th>\n",
       "      <td>80.000000</td>\n",
       "      <td>12.999409</td>\n",
       "    </tr>\n",
       "  </tbody>\n",
       "</table>\n",
       "<p>3999 rows × 2 columns</p>\n",
       "</div>"
      ],
      "text/plain": [
       "           Time      Speed\n",
       "0      0.020005   0.000030\n",
       "1      0.040010   0.120060\n",
       "2      0.060015   0.240090\n",
       "3      0.080020   0.360120\n",
       "4      0.100025   0.480150\n",
       "...         ...        ...\n",
       "3994  79.919980  12.999358\n",
       "3995  79.939985  12.999371\n",
       "3996  79.959990  12.999384\n",
       "3997  79.979995  12.999397\n",
       "3998  80.000000  12.999409\n",
       "\n",
       "[3999 rows x 2 columns]"
      ]
     },
     "metadata": {},
     "output_type": "display_data"
    },
    {
     "name": "stdout",
     "output_type": "stream",
     "text": [
      "Road Merge Collisionfault_StuckAt_4_V6.csv\n"
     ]
    }
   ],
   "source": [
    "import pandas as pd\n",
    "  \n",
    "f= 'Road Merge Collisionfault_StuckAt_4_V6.csv'     \n",
    "    # read the csv file\n",
    "df = pd.read_csv(f)\n",
    "df.columns = [\"Time\",\"Speed\"]\n",
    "df.to_csv(f,index=False)\n",
    "display(df)\n",
    "print(f)"
   ]
  },
  {
   "cell_type": "code",
   "execution_count": 6,
   "id": "adeb515f",
   "metadata": {},
   "outputs": [],
   "source": [
    ">>> import pandas as pd  \n",
    ">>> df_source1 = pd.read_csv('Platoon Controlfault_StuckAt_10_V6.csv') \n",
    ">>> df_source2 = pd.read_csv('Road Merge Collisionfault_StuckAt_10_V6.csv') \n",
    ">>> df_source2[\"Label\"]=df_source1[\"Label\"]# \n",
    ">>> df_source2.to_csv('Road Merge Collisionfault_StuckAt_10_V6.csv',index=False)\n",
    ">>> df_source2 = pd.read_csv('Urban City Trafficfault_StuckAt_10_V6.csv') \n",
    ">>> df_source2[\"Label\"]=df_source1[\"Label\"]# \n",
    ">>> df_source2.to_csv('Urban City Trafficfault_StuckAt_10_V6.csv',index=False)"
   ]
  },
  {
   "cell_type": "code",
   "execution_count": null,
   "id": "0612fd9e",
   "metadata": {},
   "outputs": [],
   "source": []
  }
 ],
 "metadata": {
  "kernelspec": {
   "display_name": "Python 3 (ipykernel)",
   "language": "python",
   "name": "python3"
  },
  "language_info": {
   "codemirror_mode": {
    "name": "ipython",
    "version": 3
   },
   "file_extension": ".py",
   "mimetype": "text/x-python",
   "name": "python",
   "nbconvert_exporter": "python",
   "pygments_lexer": "ipython3",
   "version": "3.9.7"
  }
 },
 "nbformat": 4,
 "nbformat_minor": 5
}
