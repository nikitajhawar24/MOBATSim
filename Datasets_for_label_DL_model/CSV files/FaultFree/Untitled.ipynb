{
 "cells": [
  {
   "cell_type": "code",
   "execution_count": 5,
   "id": "d5ffbbf0",
   "metadata": {},
   "outputs": [],
   "source": [
    ">>> import pandas as pd  \n",
    ">>> df_source1 = pd.read_csv('Platoon Controlfault_free_V2.csv') \n",
    ">>> df_source2 = pd.read_csv('Platoon Controlfault_free_V6.csv') \n",
    ">>> df_source2[\"Label\"]=df_source1[\"Label\"]# \n",
    ">>> df_source2.to_csv('Platoon Controlfault_free_V6.csv',index=False)"
   ]
  },
  {
   "cell_type": "code",
   "execution_count": 6,
   "id": "c3269f29",
   "metadata": {},
   "outputs": [],
   "source": [
    "import pandas as pd\n",
    "df_source1 = pd.read_csv('Platoon Controlfault_free_V2.csv')\n",
    "df_source2 = pd.read_csv('Platoon Controlfault_free_V6.csv')\n",
    "df_source3 = pd.read_csv('Urban City Trafficfault_free_V2.csv')\n",
    "df_source4 = pd.read_csv('Road merge Collisionfault_free_V6.csv')"
   ]
  },
  {
   "cell_type": "code",
   "execution_count": 7,
   "id": "7bd9fbec",
   "metadata": {},
   "outputs": [],
   "source": [
    "df = pd.concat([df_source1, df_source2, df_source3, df_source4])"
   ]
  },
  {
   "cell_type": "code",
   "execution_count": 12,
   "id": "70d9314e",
   "metadata": {},
   "outputs": [],
   "source": [
    "df.to_csv('trainingfault_free.csv',index=False)"
   ]
  },
  {
   "cell_type": "code",
   "execution_count": 13,
   "id": "e6776dc3",
   "metadata": {},
   "outputs": [],
   "source": [
    "df_source5 = pd.read_csv('Urban City Trafficfault_free_V6.csv')\n",
    "df_source6 = pd.read_csv('Road merge Collisionfault_free_V2.csv')\n",
    "df = pd.concat([df_source5, df_source6])\n",
    "df.to_csv('testingfault_free.csv',index=False)"
   ]
  },
  {
   "cell_type": "code",
   "execution_count": null,
   "id": "921ca411",
   "metadata": {},
   "outputs": [],
   "source": []
  }
 ],
 "metadata": {
  "kernelspec": {
   "display_name": "Python 3 (ipykernel)",
   "language": "python",
   "name": "python3"
  },
  "language_info": {
   "codemirror_mode": {
    "name": "ipython",
    "version": 3
   },
   "file_extension": ".py",
   "mimetype": "text/x-python",
   "name": "python",
   "nbconvert_exporter": "python",
   "pygments_lexer": "ipython3",
   "version": "3.9.7"
  }
 },
 "nbformat": 4,
 "nbformat_minor": 5
}
