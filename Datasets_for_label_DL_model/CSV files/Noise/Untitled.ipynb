{
 "cells": [
  {
   "cell_type": "code",
   "execution_count": 23,
   "id": "a2615ad4",
   "metadata": {},
   "outputs": [],
   "source": [
    ">>> import pandas as pd  \n",
    ">>> df_source1 = pd.read_csv('Platoon Controlfault_Noise_50_V2.csv') \n",
    ">>> df_source2 = pd.read_csv('Platoon Controlfault_Noise_50_V6.csv') \n",
    ">>> df_source2[\"Label\"]=df_source1[\"Label\"]# \n",
    "\n",
    ">>> df_source2.to_csv('Platoon Controlfault_Noise_50_V6.csv',index=False) "
   ]
  },
  {
   "cell_type": "code",
   "execution_count": 28,
   "id": "6170d8c0",
   "metadata": {},
   "outputs": [
    {
     "name": "stdout",
     "output_type": "stream",
     "text": [
      "            Time         Speed  Label\n",
      "0       0.020005  3.000000e-05      0\n",
      "1       0.040010  1.200600e-01      0\n",
      "2       0.060015  2.400900e-01      0\n",
      "3       0.080020  3.601200e-01      0\n",
      "4       0.100025  4.801500e-01      0\n",
      "...          ...           ...    ...\n",
      "79975  79.919980  6.841773e-09      0\n",
      "79976  79.939985  6.702051e-09      0\n",
      "79977  79.959990  6.565182e-09      0\n",
      "79978  79.979995  6.431108e-09      0\n",
      "79979  80.000000  6.299772e-09      0\n",
      "\n",
      "[79980 rows x 3 columns]\n"
     ]
    }
   ],
   "source": [
    "import pandas as pd\n",
    "import glob\n",
    "import os\n",
    " \n",
    "path = os.getcwd()    \n",
    "# merging the files\n",
    "files = os.path.join(path,\"*.csv\")\n",
    "  \n",
    "# A list of all joined files is returned\n",
    "files = glob.glob(files)\n",
    "  \n",
    "# Finally, the files are joined\n",
    "df = pd.concat(map(pd.read_csv, files), ignore_index=True)\n",
    "print(df)"
   ]
  },
  {
   "cell_type": "code",
   "execution_count": null,
   "id": "4d1b521e",
   "metadata": {},
   "outputs": [],
   "source": []
  }
 ],
 "metadata": {
  "kernelspec": {
   "display_name": "Python 3 (ipykernel)",
   "language": "python",
   "name": "python3"
  },
  "language_info": {
   "codemirror_mode": {
    "name": "ipython",
    "version": 3
   },
   "file_extension": ".py",
   "mimetype": "text/x-python",
   "name": "python",
   "nbconvert_exporter": "python",
   "pygments_lexer": "ipython3",
   "version": "3.9.7"
  }
 },
 "nbformat": 4,
 "nbformat_minor": 5
}
