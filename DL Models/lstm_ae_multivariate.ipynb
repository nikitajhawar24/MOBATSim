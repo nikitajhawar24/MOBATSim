{
 "cells": [
  {
   "cell_type": "code",
   "execution_count": 1,
   "id": "9a3a37e8",
   "metadata": {
    "id": "9a3a37e8"
   },
   "outputs": [],
   "source": [
    "import pandas as pd\n",
    "import json"
   ]
  },
  {
   "cell_type": "code",
   "execution_count": 2,
   "id": "KeaEinmtdRDz",
   "metadata": {
    "colab": {
     "base_uri": "https://localhost:8080/"
    },
    "id": "KeaEinmtdRDz",
    "outputId": "a295f092-342d-409b-8be4-58fd313670f4"
   },
   "outputs": [],
   "source": [
    "#from google.colab import drive\n",
    "#drive.mount('/content/drive')"
   ]
  },
  {
   "cell_type": "code",
   "execution_count": 4,
   "id": "uJrDvgdmdV91",
   "metadata": {
    "id": "uJrDvgdmdV91"
   },
   "outputs": [],
   "source": [
    "import pandas as pd\n",
    "df1 = pd.read_csv(\"Multivriate_data.csv\")"
   ]
  },
  {
   "cell_type": "code",
   "execution_count": 5,
   "id": "5FAEfuHSfeVO",
   "metadata": {
    "id": "5FAEfuHSfeVO"
   },
   "outputs": [],
   "source": [
    "import numpy as np\n",
    "\n",
    "y = df1['Label']\n",
    "df1 = df1.drop(\"Label\", axis=1)\n",
    "X = np.asarray(df1)\n",
    "from sklearn.utils import shuffle\n",
    "from sklearn.model_selection import train_test_split\n",
    "X, y = shuffle(X, y)\n",
    "X_train, X_test, y_train, y_test = train_test_split(X, y, test_size=0.33, random_state=42)\n",
    "X_val, X_test, y_val, y_test = train_test_split(X_test, y_test, test_size=0.5, random_state=42)"
   ]
  },
  {
   "cell_type": "markdown",
   "id": "xS5jgMpEfddM",
   "metadata": {
    "id": "xS5jgMpEfddM"
   },
   "source": []
  },
  {
   "cell_type": "code",
   "execution_count": 6,
   "id": "8b64f3cb",
   "metadata": {
    "id": "8b64f3cb"
   },
   "outputs": [],
   "source": [
    "import tensorflow as tf\n",
    "\n",
    "from tensorflow.keras.models import Model,Sequential\n",
    "from tensorflow.keras.layers import LSTM, Dropout,Dense,RepeatVector,TimeDistributed,Input,BatchNormalization,RepeatVector\n",
    "from tensorflow.keras.layers import Conv1D\n",
    "from tensorflow.keras.layers import MaxPooling1D\n",
    "from tensorflow.keras.layers import Flatten\n",
    "\n",
    "from tensorflow.keras.callbacks import TensorBoard\n",
    "from tensorflow.keras.callbacks import ModelCheckpoint\n",
    "from tensorflow.keras.callbacks import LearningRateScheduler\n",
    "from tensorflow.keras.optimizers import Adam as adam\n",
    "\n",
    "from sklearn.model_selection import train_test_split\n",
    "from sklearn.metrics import classification_report\n",
    "\n",
    "from tensorflow.keras.models import load_model"
   ]
  },
  {
   "cell_type": "code",
   "execution_count": 7,
   "id": "ySAvK3vYfGcg",
   "metadata": {
    "id": "ySAvK3vYfGcg"
   },
   "outputs": [],
   "source": [
    "from tensorflow.keras.utils import to_categorical\n",
    "y = to_categorical(y_train)"
   ]
  },
  {
   "cell_type": "code",
   "execution_count": 8,
   "id": "aQ1N5VVYfRVn",
   "metadata": {
    "id": "aQ1N5VVYfRVn"
   },
   "outputs": [],
   "source": [
    "yval1 = to_categorical(y_val)"
   ]
  },
  {
   "cell_type": "code",
   "execution_count": 9,
   "id": "eb3e084c",
   "metadata": {
    "colab": {
     "base_uri": "https://localhost:8080/"
    },
    "id": "eb3e084c",
    "outputId": "c8e9cdd5-9d7b-4927-9e67-3b1099bc745f"
   },
   "outputs": [
    {
     "name": "stdout",
     "output_type": "stream",
     "text": [
      "Model: \"sequential\"\n",
      "_________________________________________________________________\n",
      " Layer (type)                Output Shape              Param #   \n",
      "=================================================================\n",
      " lstm (LSTM)                 (None, 128)               66560     \n",
      "                                                                 \n",
      " dropout (Dropout)           (None, 128)               0         \n",
      "                                                                 \n",
      " repeat_vector (RepeatVector  (None, 1, 128)           0         \n",
      " )                                                               \n",
      "                                                                 \n",
      " lstm_1 (LSTM)               (None, 1, 128)            131584    \n",
      "                                                                 \n",
      " dropout_1 (Dropout)         (None, 1, 128)            0         \n",
      "                                                                 \n",
      " time_distributed (TimeDistr  (None, 1, 4)             516       \n",
      " ibuted)                                                         \n",
      "                                                                 \n",
      " global_average_pooling1d (G  (None, 4)                0         \n",
      " lobalAveragePooling1D)                                          \n",
      "                                                                 \n",
      " dense_1 (Dense)             (None, 4)                 20        \n",
      "                                                                 \n",
      "=================================================================\n",
      "Total params: 198,680\n",
      "Trainable params: 198,680\n",
      "Non-trainable params: 0\n",
      "_________________________________________________________________\n"
     ]
    }
   ],
   "source": [
    "from keras.layers import GlobalAveragePooling1D\n",
    "model = Sequential()\n",
    "model.add(LSTM(128, input_shape=(5,1)))\n",
    "model.add(Dropout(rate=0.2))\n",
    "model.add(RepeatVector(1))\n",
    "model.add(LSTM(128, return_sequences=True))\n",
    "model.add(Dropout(rate=0.2))\n",
    "model.add(TimeDistributed(Dense(4)))\n",
    "model.add(GlobalAveragePooling1D())\n",
    "model.add(Dense(4,activation='softmax'))\n",
    "\n",
    "model.compile(optimizer='adam', loss='categorical_crossentropy',metrics='acc')\n",
    "model.summary()"
   ]
  },
  {
   "cell_type": "code",
   "execution_count": 10,
   "id": "e3a858e9",
   "metadata": {
    "colab": {
     "base_uri": "https://localhost:8080/"
    },
    "id": "e3a858e9",
    "outputId": "8bad6d06-861f-4931-da47-4742b8cdc3e8"
   },
   "outputs": [
    {
     "data": {
      "text/plain": [
       "array([[ 1.66841710e+01,  1.18719536e+01,  2.35834609e-01,\n",
       "         5.60934647e+01, -1.92704121e+02],\n",
       "       [ 7.35183796e+01,  9.27739994e+00,  1.57079633e+00,\n",
       "         1.16536903e+02, -1.00000000e+02],\n",
       "       [ 5.44536134e+01,  1.28591844e+01, -2.40252263e-13,\n",
       "         3.70000000e+02, -1.24605764e+02],\n",
       "       ...,\n",
       "       [ 5.97949487e+01,  1.39344557e+01, -2.74669176e-13,\n",
       "         3.70000000e+02, -1.34677806e+02],\n",
       "       [ 6.13753438e+01,  8.17627105e+00,  1.57079633e+00,\n",
       "        -2.50005598e+01, -1.00000000e+02],\n",
       "       [ 1.43635909e+01,  1.20068814e+01,  1.28175411e+00,\n",
       "        -4.01048733e+01, -2.94161753e+02]])"
      ]
     },
     "execution_count": 10,
     "metadata": {},
     "output_type": "execute_result"
    }
   ],
   "source": [
    "X_train"
   ]
  },
  {
   "cell_type": "raw",
   "id": "785427af",
   "metadata": {
    "id": "785427af"
   },
   "source": []
  },
  {
   "cell_type": "code",
   "execution_count": 11,
   "id": "79ac9201",
   "metadata": {
    "colab": {
     "base_uri": "https://localhost:8080/"
    },
    "id": "79ac9201",
    "outputId": "bf061a7e-ecc9-441f-8d9c-a96713a21acb"
   },
   "outputs": [
    {
     "name": "stdout",
     "output_type": "stream",
     "text": [
      "Epoch 1/50\n",
      "95/95 [==============================] - 19s 158ms/step - loss: 1.2141 - acc: 0.5172 - val_loss: 1.1675 - val_acc: 0.5215\n",
      "Epoch 2/50\n",
      "95/95 [==============================] - 15s 154ms/step - loss: 1.1188 - acc: 0.5395 - val_loss: 1.0417 - val_acc: 0.5609\n",
      "Epoch 3/50\n",
      "95/95 [==============================] - 15s 160ms/step - loss: 1.0039 - acc: 0.5726 - val_loss: 0.9198 - val_acc: 0.5986\n",
      "Epoch 4/50\n",
      "95/95 [==============================] - 14s 150ms/step - loss: 0.9004 - acc: 0.6123 - val_loss: 0.8532 - val_acc: 0.6259\n",
      "Epoch 5/50\n",
      "95/95 [==============================] - 15s 160ms/step - loss: 0.8411 - acc: 0.6400 - val_loss: 0.7892 - val_acc: 0.6559\n",
      "Epoch 6/50\n",
      "95/95 [==============================] - 16s 172ms/step - loss: 0.8051 - acc: 0.6547 - val_loss: 0.7595 - val_acc: 0.6657\n",
      "Epoch 7/50\n",
      "95/95 [==============================] - 15s 160ms/step - loss: 0.7757 - acc: 0.6648 - val_loss: 0.7347 - val_acc: 0.6725\n",
      "Epoch 8/50\n",
      "95/95 [==============================] - 15s 154ms/step - loss: 0.7565 - acc: 0.6736 - val_loss: 0.7059 - val_acc: 0.6937\n",
      "Epoch 9/50\n",
      "95/95 [==============================] - 17s 183ms/step - loss: 0.7351 - acc: 0.6815 - val_loss: 0.7037 - val_acc: 0.6947\n",
      "Epoch 10/50\n",
      "95/95 [==============================] - 16s 169ms/step - loss: 0.7182 - acc: 0.6904 - val_loss: 0.6693 - val_acc: 0.7095\n",
      "Epoch 11/50\n",
      "95/95 [==============================] - 15s 156ms/step - loss: 0.6994 - acc: 0.6980 - val_loss: 0.6548 - val_acc: 0.7156\n",
      "Epoch 12/50\n",
      "95/95 [==============================] - 15s 161ms/step - loss: 0.6857 - acc: 0.7047 - val_loss: 0.6484 - val_acc: 0.7180\n",
      "Epoch 13/50\n",
      "95/95 [==============================] - 18s 188ms/step - loss: 0.6693 - acc: 0.7121 - val_loss: 0.6318 - val_acc: 0.7227\n",
      "Epoch 14/50\n",
      "95/95 [==============================] - 17s 184ms/step - loss: 0.6573 - acc: 0.7178 - val_loss: 0.6150 - val_acc: 0.7330\n",
      "Epoch 15/50\n",
      "95/95 [==============================] - 17s 177ms/step - loss: 0.6464 - acc: 0.7215 - val_loss: 0.6138 - val_acc: 0.7304\n",
      "Epoch 16/50\n",
      "95/95 [==============================] - 16s 164ms/step - loss: 0.6381 - acc: 0.7258 - val_loss: 0.6142 - val_acc: 0.7314\n",
      "Epoch 17/50\n",
      "95/95 [==============================] - 19s 205ms/step - loss: 0.6289 - acc: 0.7291 - val_loss: 0.5845 - val_acc: 0.7511\n",
      "Epoch 18/50\n",
      "95/95 [==============================] - 20s 211ms/step - loss: 0.6184 - acc: 0.7355 - val_loss: 0.5817 - val_acc: 0.7506\n",
      "Epoch 19/50\n",
      "95/95 [==============================] - 22s 235ms/step - loss: 0.6106 - acc: 0.7386 - val_loss: 0.5716 - val_acc: 0.7537\n",
      "Epoch 20/50\n",
      "95/95 [==============================] - 23s 238ms/step - loss: 0.6026 - acc: 0.7425 - val_loss: 0.5745 - val_acc: 0.7505\n",
      "Epoch 21/50\n",
      "95/95 [==============================] - 23s 247ms/step - loss: 0.5965 - acc: 0.7466 - val_loss: 0.5567 - val_acc: 0.7639\n",
      "Epoch 22/50\n",
      "95/95 [==============================] - 22s 227ms/step - loss: 0.5839 - acc: 0.7532 - val_loss: 0.5421 - val_acc: 0.7699\n",
      "Epoch 23/50\n",
      "95/95 [==============================] - 22s 233ms/step - loss: 0.5779 - acc: 0.7559 - val_loss: 0.5359 - val_acc: 0.7762\n",
      "Epoch 24/50\n",
      "95/95 [==============================] - 22s 237ms/step - loss: 0.5684 - acc: 0.7605 - val_loss: 0.5254 - val_acc: 0.7791\n",
      "Epoch 25/50\n",
      "95/95 [==============================] - 22s 231ms/step - loss: 0.5603 - acc: 0.7624 - val_loss: 0.5178 - val_acc: 0.7817\n",
      "Epoch 26/50\n",
      "95/95 [==============================] - 21s 225ms/step - loss: 0.5543 - acc: 0.7653 - val_loss: 0.5105 - val_acc: 0.7850\n",
      "Epoch 27/50\n",
      "95/95 [==============================] - 22s 229ms/step - loss: 0.5464 - acc: 0.7685 - val_loss: 0.5038 - val_acc: 0.7872\n",
      "Epoch 28/50\n",
      "95/95 [==============================] - 23s 242ms/step - loss: 0.5431 - acc: 0.7694 - val_loss: 0.5010 - val_acc: 0.7853\n",
      "Epoch 29/50\n",
      "95/95 [==============================] - 22s 236ms/step - loss: 0.5406 - acc: 0.7695 - val_loss: 0.4986 - val_acc: 0.7877\n",
      "Epoch 30/50\n",
      "95/95 [==============================] - 23s 245ms/step - loss: 0.5299 - acc: 0.7749 - val_loss: 0.4972 - val_acc: 0.7907\n",
      "Epoch 31/50\n",
      "95/95 [==============================] - 22s 230ms/step - loss: 0.5254 - acc: 0.7766 - val_loss: 0.4796 - val_acc: 0.7966\n",
      "Epoch 32/50\n",
      "95/95 [==============================] - 21s 222ms/step - loss: 0.5186 - acc: 0.7792 - val_loss: 0.4817 - val_acc: 0.7943\n",
      "Epoch 33/50\n",
      "95/95 [==============================] - 18s 188ms/step - loss: 0.5161 - acc: 0.7806 - val_loss: 0.4820 - val_acc: 0.7937\n",
      "Epoch 34/50\n",
      "95/95 [==============================] - 18s 189ms/step - loss: 0.5126 - acc: 0.7816 - val_loss: 0.4713 - val_acc: 0.7977\n",
      "Epoch 35/50\n",
      "95/95 [==============================] - 18s 192ms/step - loss: 0.5068 - acc: 0.7846 - val_loss: 0.4690 - val_acc: 0.8005\n",
      "Epoch 36/50\n",
      "95/95 [==============================] - 18s 191ms/step - loss: 0.5021 - acc: 0.7855 - val_loss: 0.4713 - val_acc: 0.7989\n",
      "Epoch 37/50\n",
      "95/95 [==============================] - 18s 192ms/step - loss: 0.5007 - acc: 0.7868 - val_loss: 0.4639 - val_acc: 0.7999\n",
      "Epoch 38/50\n",
      "95/95 [==============================] - 18s 192ms/step - loss: 0.4923 - acc: 0.7904 - val_loss: 0.4694 - val_acc: 0.7985\n",
      "Epoch 39/50\n",
      "95/95 [==============================] - 18s 194ms/step - loss: 0.4898 - acc: 0.7910 - val_loss: 0.4485 - val_acc: 0.8097\n",
      "Epoch 40/50\n",
      "95/95 [==============================] - 19s 200ms/step - loss: 0.4875 - acc: 0.7912 - val_loss: 0.4538 - val_acc: 0.8051\n",
      "Epoch 41/50\n",
      "95/95 [==============================] - 19s 198ms/step - loss: 0.4831 - acc: 0.7930 - val_loss: 0.4478 - val_acc: 0.8074\n",
      "Epoch 42/50\n",
      "95/95 [==============================] - 21s 220ms/step - loss: 0.4819 - acc: 0.7936 - val_loss: 0.4357 - val_acc: 0.8144\n",
      "Epoch 43/50\n",
      "95/95 [==============================] - 23s 243ms/step - loss: 0.4769 - acc: 0.7954 - val_loss: 0.4268 - val_acc: 0.8158\n",
      "Epoch 44/50\n",
      "95/95 [==============================] - 22s 229ms/step - loss: 0.4717 - acc: 0.7984 - val_loss: 0.4235 - val_acc: 0.8180\n",
      "Epoch 45/50\n",
      "95/95 [==============================] - 22s 228ms/step - loss: 0.4684 - acc: 0.7990 - val_loss: 0.4218 - val_acc: 0.8186\n",
      "Epoch 46/50\n",
      "95/95 [==============================] - 23s 241ms/step - loss: 0.4657 - acc: 0.7991 - val_loss: 0.4217 - val_acc: 0.8211\n",
      "Epoch 47/50\n",
      "95/95 [==============================] - 21s 222ms/step - loss: 0.4603 - acc: 0.8018 - val_loss: 0.4157 - val_acc: 0.8206\n",
      "Epoch 48/50\n",
      "95/95 [==============================] - 20s 216ms/step - loss: 0.4606 - acc: 0.8018 - val_loss: 0.4640 - val_acc: 0.8083\n",
      "Epoch 49/50\n",
      "95/95 [==============================] - 21s 226ms/step - loss: 0.4569 - acc: 0.8030 - val_loss: 0.4450 - val_acc: 0.8103\n",
      "Epoch 50/50\n",
      "95/95 [==============================] - 21s 226ms/step - loss: 0.4564 - acc: 0.8028 - val_loss: 0.4076 - val_acc: 0.8252\n"
     ]
    }
   ],
   "source": [
    "history= model.fit(X_train, y,\n",
    "epochs=50,\n",
    "batch_size=2048,\n",
    "validation_data=(X_val,yval1),\n",
    "shuffle=False)\n"
   ]
  },
  {
   "cell_type": "code",
   "execution_count": 12,
   "id": "d71b14e5",
   "metadata": {
    "colab": {
     "base_uri": "https://localhost:8080/",
     "height": 1000
    },
    "id": "d71b14e5",
    "outputId": "b0d98ec6-0034-4c9c-fccc-1d7d11ff7ab6"
   },
   "outputs": [
    {
     "data": {
      "image/png": "[encoded data removed]",
      "text/plain": [
       "<Figure size 432x288 with 1 Axes>"
      ]
     },
     "metadata": {
      "needs_background": "light"
     },
     "output_type": "display_data"
    },
    {
     "data": {
      "image/png": "[encoded data removed]",
      "text/plain": [
       "<Figure size 432x288 with 1 Axes>"
      ]
     },
     "metadata": {
      "needs_background": "light"
     },
     "output_type": "display_data"
    },
    {
     "name": "stdout",
     "output_type": "stream",
     "text": [
      "the model is rnn\n",
      "the optimizer is <keras.optimizer_v2.adam.Adam object at 0x000001761B3D94F0>\n",
      "the confusion matrix is [[23156   749   648   307]\n",
      " [  860  7822   141   325]\n",
      " [ 1477    95  4917     1]\n",
      " [  820  2598   144  3449]]\n"
     ]
    },
    {
     "data": {
      "image/png": "[encoded data removed]",
      "text/plain": [
       "<Figure size 432x288 with 2 Axes>"
      ]
     },
     "metadata": {
      "needs_background": "light"
     },
     "output_type": "display_data"
    },
    {
     "name": "stdout",
     "output_type": "stream",
     "text": [
      "the accuracy for test is is 0.828137826517081\n",
      "              precision    recall  f1-score   support\n",
      "\n",
      "     class 0       0.88      0.93      0.91     24860\n",
      "     class 1       0.69      0.86      0.77      9148\n",
      "     class 2       0.84      0.76      0.80      6490\n",
      "     class 3       0.84      0.49      0.62      7011\n",
      "\n",
      "    accuracy                           0.83     47509\n",
      "   macro avg       0.81      0.76      0.77     47509\n",
      "weighted avg       0.83      0.83      0.82     47509\n",
      "\n"
     ]
    }
   ],
   "source": [
    "from sklearn.metrics import confusion_matrix\n",
    "from sklearn.metrics import classification_report\n",
    "from sklearn.metrics import roc_auc_score\n",
    "from sklearn.metrics import precision_score\n",
    "from sklearn.metrics import f1_score\n",
    "from sklearn.metrics import recall_score\n",
    "from sklearn.metrics import accuracy_score\n",
    "import matplotlib.pyplot as plt\n",
    "from sklearn.metrics import confusion_matrix, ConfusionMatrixDisplay\n",
    "from time import time\n",
    "from sklearn import metrics\n",
    "yp =model.predict(X_test)\n",
    "lr=0.001\n",
    "opt=tf.keras.optimizers.Adam(lr)\n",
    "ypred = np.argmax(yp, axis=1)\n",
    "actual=y_test\n",
    "predicted=ypred\n",
    "plt.plot(history.history['acc'])\n",
    "plt.title('model accuracy')\n",
    "plt.plot(history.history['val_acc'])\n",
    "plt.title('accuracy')\n",
    "plt.ylabel('accuracy')\n",
    "plt.ylabel('accuracy')\n",
    "plt.xlabel('epoch')\n",
    "\n",
    "plt.show()\n",
    "\n",
    "\n",
    "# \"Loss\"\n",
    "plt.plot(history.history['loss'])\n",
    "plt.title('model loss')\n",
    "plt.plot(history.history['val_loss'])\n",
    "plt.ylabel('loss')\n",
    "plt.xlabel('epoch')\n",
    "\n",
    "plt.show()\n",
    "  \n",
    "  \n",
    "print(\"the model is rnn\")\n",
    "print(\"the optimizer is\", opt)\n",
    "matrix = confusion_matrix(actual,predicted, labels=[0,1,2,3])\n",
    "print(\"the confusion matrix is\", matrix)\n",
    "disp = ConfusionMatrixDisplay(confusion_matrix=matrix,\n",
    "                               display_labels=[0,1,2,3])\n",
    "disp.plot()\n",
    "\n",
    "plt.show()  \n",
    "print(\"the accuracy for test is is\", accuracy_score(y_test,ypred))\n",
    "target_names = ['class 0', 'class 1', 'class 2','class 3']\n",
    "print(classification_report(actual, predicted, target_names=target_names))\n",
    "\n"
   ]
  },
  {
   "cell_type": "raw",
   "id": "35ea25a6",
   "metadata": {
    "id": "35ea25a6"
   },
   "source": []
  },
  {
   "cell_type": "code",
   "execution_count": null,
   "id": "fc26fa25",
   "metadata": {
    "id": "fc26fa25"
   },
   "outputs": [],
   "source": []
  }
 ],
 "metadata": {
  "colab": {
   "name": "lstm-ae_Mobatsim-Copy1.ipynb",
   "provenance": []
  },
  "kernelspec": {
   "display_name": "Python 3 (ipykernel)",
   "language": "python",
   "name": "python3"
  },
  "language_info": {
   "codemirror_mode": {
    "name": "ipython",
    "version": 3
   },
   "file_extension": ".py",
   "mimetype": "text/x-python",
   "name": "python",
   "nbconvert_exporter": "python",
   "pygments_lexer": "ipython3",
   "version": "3.9.7"
  }
 },
 "nbformat": 4,
 "nbformat_minor": 5
}
