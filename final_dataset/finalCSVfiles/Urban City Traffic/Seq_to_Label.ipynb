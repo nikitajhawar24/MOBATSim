{
 "cells": [
  {
   "cell_type": "code",
   "execution_count": 21,
   "id": "458eae66",
   "metadata": {},
   "outputs": [],
   "source": [
    "\n",
    "import h5py\n",
    "import numpy as np\n",
    "import pandas as pd\n",
    "import matplotlib.pyplot as plt\n",
    "from os import listdir\n",
    "from os.path import isfile, join\n",
    "# import tensorflow_addons as tfa\n",
    "import os"
   ]
  },
  {
   "cell_type": "code",
   "execution_count": 64,
   "id": "043a9f83",
   "metadata": {},
   "outputs": [],
   "source": [
    "import os\n",
    "import yaml\n",
    "\n",
    "import tensorflow as tf\n",
    "\n",
    "from tensorflow.keras.models import Model,Sequential\n",
    "from tensorflow.keras.layers import LSTM, Dropout,Dense,RepeatVector,TimeDistributed,Input,BatchNormalization\n",
    "from tensorflow.keras.layers import Conv1D\n",
    "from tensorflow.keras.layers import MaxPooling1D\n",
    "from tensorflow.keras.layers import Flatten\n",
    "\n",
    "from tensorflow.keras.callbacks import TensorBoard\n",
    "from tensorflow.keras.callbacks import ModelCheckpoint\n",
    "from tensorflow.keras.callbacks import LearningRateScheduler\n",
    "from tensorflow.keras.optimizers import Adam as adam\n",
    "\n",
    "from sklearn.model_selection import train_test_split\n",
    "from sklearn.metrics import classification_report\n",
    "\n",
    "from tensorflow.keras.models import load_model"
   ]
  },
  {
   "cell_type": "code",
   "execution_count": 184,
   "id": "8efbdcd5",
   "metadata": {},
   "outputs": [],
   "source": [
    "data_path = \"C:\\\\Users\\INT004435\\\\Downloads\\\\Noise\\\\\""
   ]
  },
  {
   "cell_type": "code",
   "execution_count": 185,
   "id": "887c685d",
   "metadata": {},
   "outputs": [],
   "source": [
    "df_test_1 = pd.read_csv(data_path + \"Road Merge Collision_Noise_faultduration_5_V6.csv\")\n",
    "lis = []\n",
    "for i in range(1,17):\n",
    "    if i/2 != 1:\n",
    "        lis1 = [3]*250 #1 for noise #2 offset \n",
    "        lis.extend(lis1)\n",
    "    else:\n",
    "        lis2 = [0]*250\n",
    "        lis.extend(lis2)\n",
    "        \n",
    "lis.pop()\n",
    "df1['label'] = lis\n",
    "    "
   ]
  },
  {
   "cell_type": "code",
   "execution_count": 321,
   "id": "a747d282",
   "metadata": {},
   "outputs": [],
   "source": [
    "df2 = pd.read_csv(data_path + \"Road Merge Collision_Noise_faultduration_5_V6.csv\")\n",
    "lis = []\n",
    "for i in range(1,17):\n",
    "    if i/2 != 1:\n",
    "        lis1 = [3]*250 #1 for noise #2 offset \n",
    "        lis.extend(lis1)\n",
    "    else:\n",
    "        lis2 = [0]*250\n",
    "        lis.extend(lis2)\n",
    "        \n",
    "lis.pop()\n",
    "df2['label'] = lis"
   ]
  },
  {
   "cell_type": "code",
   "execution_count": 187,
   "id": "3efacd10",
   "metadata": {},
   "outputs": [],
   "source": [
    "df3 = pd.read_csv(data_path + \"Urban City Traffic_StuckAt_faultduration_5_V2.csv\")\n",
    "lis = []\n",
    "for i in range(1,17):\n",
    "    if i/2 != 1:\n",
    "        lis1 = [3]*250 #1 for noise #2 offset \n",
    "        lis.extend(lis1)\n",
    "    else:\n",
    "        lis2 = [0]*250\n",
    "        lis.extend(lis2)\n",
    "        \n",
    "lis.pop()\n",
    "df3['label'] = lis"
   ]
  },
  {
   "cell_type": "code",
   "execution_count": 323,
   "id": "862a44e3",
   "metadata": {},
   "outputs": [],
   "source": [
    "df4 = pd.read_csv(data_path + \"Urban City Traffic_StuckAt_faultduration_5_V6.csv\")\n",
    "lis = []\n",
    "for i in range(1,17):\n",
    "    if i/2 != 1:\n",
    "        lis1 = [3]*250 #1 for noise #2 offset \n",
    "        lis.extend(lis1)\n",
    "    else:\n",
    "        lis2 = [0]*250\n",
    "        lis.extend(lis2)\n",
    "        \n",
    "lis.pop()\n",
    "df4['label'] = lis"
   ]
  },
  {
   "cell_type": "code",
   "execution_count": 189,
   "id": "4050844e",
   "metadata": {},
   "outputs": [],
   "source": [
    "df5 = pd.read_csv(data_path + \"Road Merge Collision_StuckAt_faultduration_5_V2.csv\")\n",
    "lis = []\n",
    "for i in range(1,17):\n",
    "    if i/2 != 1:\n",
    "        lis1 = [3]*250 #1 for noise #2 offset \n",
    "        lis.extend(lis1)\n",
    "    else:\n",
    "        lis2 = [0]*250\n",
    "        lis.extend(lis2)\n",
    "        \n",
    "lis.pop()\n",
    "df5['label'] = lis"
   ]
  },
  {
   "cell_type": "code",
   "execution_count": 324,
   "id": "6f935ac2",
   "metadata": {},
   "outputs": [
    {
     "name": "stdout",
     "output_type": "stream",
     "text": [
      "<class 'pandas.core.frame.DataFrame'>\n",
      "Int64Index: 7998 entries, 0 to 3998\n",
      "Data columns (total 6 columns):\n",
      " #   Column       Non-Null Count  Dtype  \n",
      "---  ------       --------------  -----  \n",
      " 0   Time         7998 non-null   float64\n",
      " 1   Speed        7998 non-null   float64\n",
      " 2   Rotation     7998 non-null   float64\n",
      " 3   Position     7998 non-null   float64\n",
      " 4   Translation  7998 non-null   float64\n",
      " 5   label        7998 non-null   int64  \n",
      "dtypes: float64(5), int64(1)\n",
      "memory usage: 437.4 KB\n"
     ]
    },
    {
     "data": {
      "text/plain": [
       "array([3, 0], dtype=int64)"
      ]
     },
     "execution_count": 324,
     "metadata": {},
     "output_type": "execute_result"
    }
   ],
   "source": [
    "\n",
    "#df_stuckat = pd.concat([df2, df4])\n",
    "#df_stuckat.info()\n",
    "#df_stuckat['label'].unique()\n",
    "#df_noise\n",
    "#df_stuckat\n",
    "#df_offset\n",
    "#df_faultfree"
   ]
  },
  {
   "cell_type": "code",
   "execution_count": 409,
   "id": "218aacf2",
   "metadata": {},
   "outputs": [
    {
     "name": "stdout",
     "output_type": "stream",
     "text": [
      "<class 'pandas.core.frame.DataFrame'>\n",
      "Int64Index: 27993 entries, 0 to 3998\n",
      "Data columns (total 6 columns):\n",
      " #   Column       Non-Null Count  Dtype  \n",
      "---  ------       --------------  -----  \n",
      " 0   Time         27993 non-null  float64\n",
      " 1   Speed        27993 non-null  float64\n",
      " 2   Rotation     27993 non-null  float64\n",
      " 3   Position     27993 non-null  float64\n",
      " 4   Translation  27993 non-null  float64\n",
      " 5   label        27993 non-null  int64  \n",
      "dtypes: float64(5), int64(1)\n",
      "memory usage: 1.5 MB\n"
     ]
    },
    {
     "data": {
      "text/plain": [
       "array([1, 0, 3], dtype=int64)"
      ]
     },
     "execution_count": 409,
     "metadata": {},
     "output_type": "execute_result"
    }
   ],
   "source": [
    "df = pd.concat([df_noise, df_stuckat])\n",
    "#df = df_noise\n",
    "df.info()\n",
    "df['label'].unique()"
   ]
  },
  {
   "cell_type": "code",
   "execution_count": 410,
   "id": "924faf04",
   "metadata": {},
   "outputs": [
    {
     "data": {
      "image/png": "[encoded data removed]",
      "text/plain": [
       "<Figure size 432x288 with 2 Axes>"
      ]
     },
     "metadata": {
      "needs_background": "light"
     },
     "output_type": "display_data"
    }
   ],
   "source": [
    "import seaborn as sns\n",
    "\n",
    "sns.heatmap(df.corr())\n",
    "plt.show()"
   ]
  },
  {
   "cell_type": "code",
   "execution_count": 281,
   "id": "632cdeb0",
   "metadata": {},
   "outputs": [
    {
     "data": {
      "text/plain": [
       "'\\ndo this 6 files (noise)\\nfor each files create labels\\n\\nappend all 6 dfs in one df\\n\\n6*99 = ~ 600\\n\\n'"
      ]
     },
     "execution_count": 281,
     "metadata": {},
     "output_type": "execute_result"
    }
   ],
   "source": [
    "# 2 Class Classification\n",
    "\n",
    "\"\"\"\n",
    "do this 6 files (noise)\n",
    "for each files create labels\n",
    "\n",
    "append all 6 dfs in one df\n",
    "\n",
    "6*99 = ~ 600\n",
    "\n",
    "\"\"\"\n",
    "\n",
    "#df"
   ]
  },
  {
   "cell_type": "code",
   "execution_count": 282,
   "id": "a5ac4c5e",
   "metadata": {},
   "outputs": [
    {
     "data": {
      "text/plain": [
       "'\\nExtend upper part for 3 faulty scenes\\nlabels = [0,1,2,3]\\n\\ncancat = df_noise + df_off +df_stuck\\ndf = cancatenated file\\n\\n\\n'"
      ]
     },
     "execution_count": 282,
     "metadata": {},
     "output_type": "execute_result"
    }
   ],
   "source": [
    "# 4 class classification\n",
    "\"\"\"\n",
    "Extend upper part for 3 faulty scenes\n",
    "labels = [0,1,2,3]\n",
    "\n",
    "cancat = df_noise + df_off +df_stuck\n",
    "df = cancatenated file\n",
    "\n",
    "\n",
    "\"\"\"\n"
   ]
  },
  {
   "cell_type": "code",
   "execution_count": 411,
   "id": "1b95dda1",
   "metadata": {},
   "outputs": [],
   "source": [
    "y = df['label']\n",
    "X = df['Speed']"
   ]
  },
  {
   "cell_type": "code",
   "execution_count": 412,
   "id": "d7bcfcaf",
   "metadata": {},
   "outputs": [],
   "source": [
    "# # Scaling the Data\n",
    "\n",
    "from sklearn.preprocessing import RobustScaler\n",
    "X = X.values.reshape(-1,1) #since considering just one parameter, i reshape it to (-1,1)\n",
    "scaler = RobustScaler()\n",
    "\n",
    "x = scaler.fit_transform(X)\n"
   ]
  },
  {
   "cell_type": "code",
   "execution_count": 413,
   "id": "33f0d37d",
   "metadata": {},
   "outputs": [],
   "source": [
    "n_features = 1"
   ]
  },
  {
   "cell_type": "code",
   "execution_count": 414,
   "id": "4b5d9a5e",
   "metadata": {},
   "outputs": [
    {
     "name": "stdout",
     "output_type": "stream",
     "text": [
      "(27993, 1)\n",
      "(699, 64, 1)\n"
     ]
    }
   ],
   "source": [
    "from scipy import stats\n",
    "\n",
    "def create_dataset(X, y, time_steps=1, step=1):\n",
    "    Xs, ys = [], []\n",
    "    for i in range(0, len(X) - time_steps, step):\n",
    "        v = X[i:(i + time_steps)]\n",
    "        # print(v.shape)\n",
    "        labels = y.iloc[i: i + time_steps]\n",
    "        Xs.append(v)        \n",
    "        ys.append(stats.mode(labels)[0][0])\n",
    "    return np.array(Xs), np.array(ys).reshape(-1, 1)\n",
    "\n",
    "TIME_STEPS = 64\n",
    "STEP = 40\n",
    "\n",
    "print(X.shape)\n",
    "X_train, y_train = create_dataset(\n",
    "    x, \n",
    "    y, \n",
    "    TIME_STEPS, \n",
    "    STEP\n",
    ")\n",
    "print(X_train.shape)\n"
   ]
  },
  {
   "cell_type": "code",
   "execution_count": 415,
   "id": "213105b4",
   "metadata": {},
   "outputs": [
    {
     "name": "stdout",
     "output_type": "stream",
     "text": [
      "(699, 1)\n"
     ]
    }
   ],
   "source": [
    "print(y_train.shape)\n"
   ]
  },
  {
   "cell_type": "code",
   "execution_count": 416,
   "id": "4e9502a2",
   "metadata": {},
   "outputs": [],
   "source": [
    "X_train = X_train.reshape(699,4,int(TIME_STEPS/4),n_features)"
   ]
  },
  {
   "cell_type": "code",
   "execution_count": 417,
   "id": "8bf3fb95",
   "metadata": {},
   "outputs": [
    {
     "name": "stdout",
     "output_type": "stream",
     "text": [
      "(699, 4, 16, 1) (699, 1)\n"
     ]
    }
   ],
   "source": [
    "print(X_train.shape, y_train.shape)\n"
   ]
  },
  {
   "cell_type": "code",
   "execution_count": 418,
   "id": "fdd525b4",
   "metadata": {},
   "outputs": [],
   "source": [
    "from sklearn.preprocessing import OneHotEncoder\n",
    "\n",
    "enc = OneHotEncoder(handle_unknown='ignore', sparse=False)\n",
    "\n",
    "enc = enc.fit(y_train)\n",
    "\n",
    "y_train = enc.transform(y_train)\n",
    "# y_test = enc.transform(y_test)"
   ]
  },
  {
   "cell_type": "code",
   "execution_count": null,
   "id": "b602e8cd",
   "metadata": {},
   "outputs": [],
   "source": []
  },
  {
   "cell_type": "code",
   "execution_count": 422,
   "id": "18667e96",
   "metadata": {},
   "outputs": [],
   "source": [
    "model = Sequential()\n",
    "\n",
    "# Add dropout to reduce overfitting\n",
    "model.add(TimeDistributed(Dropout(0.1)))\n",
    "\n",
    "# The extracted features are then flattened and provided to the LSTM model to read\n",
    "model.add(TimeDistributed(Flatten()))\n",
    "\n",
    "# Add LSTM Model\n",
    "model.add(LSTM(50))\n",
    "\n",
    "# Use Dropout layer to reduce overfitting of the model to the training data\n",
    "model.add(Dropout(0.2))\n",
    "\n",
    "# Add one hidden layer with 100 default nodes with relu activation function\n",
    "model.add(Dense(150, activation='relu'))\n",
    "\n",
    "# Add output layer with 6 (Total number of classes) nodes with softmax activation function\n",
    "model.add(Dense(3, activation='softmax')) "
   ]
  },
  {
   "cell_type": "code",
   "execution_count": 423,
   "id": "4dd6832f",
   "metadata": {},
   "outputs": [],
   "source": [
    "def plot_training(history):\n",
    "    print(history.history.keys())\n",
    "\n",
    "    #  \"Accuracy\"\n",
    "    plt.plot(history.history['accuracy'])\n",
    "    plt.plot(history.history['val_accuracy'])\n",
    "    plt.title('model accuracy')\n",
    "    plt.ylabel('accuracy')\n",
    "    plt.xlabel('epoch')\n",
    "    plt.legend(['train', 'validation'], loc='upper left')\n",
    "    plt.show()\n",
    "    \n",
    "    # \"Loss\"\n",
    "    plt.plot(history.history['loss'])\n",
    "    plt.plot(history.history['val_loss'])\n",
    "    plt.title('model loss')\n",
    "    plt.ylabel('loss')\n",
    "    plt.xlabel('epoch')\n",
    "    plt.legend(['train', 'validation'], loc='upper left')\n",
    "    plt.show()"
   ]
  },
  {
   "cell_type": "code",
   "execution_count": 424,
   "id": "cb7fb254",
   "metadata": {},
   "outputs": [
    {
     "name": "stdout",
     "output_type": "stream",
     "text": [
      "Epoch 1/20\n",
      "9/9 [==============================] - 3s 78ms/step - loss: 1.0270 - accuracy: 0.8050 - val_loss: 1.1934 - val_accuracy: 0.0000e+00\n",
      "Epoch 2/20\n",
      "9/9 [==============================] - 0s 9ms/step - loss: 0.9911 - accuracy: 0.8354 - val_loss: 1.2421 - val_accuracy: 0.0000e+00\n",
      "Epoch 3/20\n",
      "9/9 [==============================] - 0s 10ms/step - loss: 0.9614 - accuracy: 0.8408 - val_loss: 1.2937 - val_accuracy: 0.0000e+00\n",
      "Epoch 4/20\n",
      "9/9 [==============================] - 0s 10ms/step - loss: 0.9299 - accuracy: 0.8408 - val_loss: 1.3514 - val_accuracy: 0.0000e+00\n",
      "Epoch 5/20\n",
      "9/9 [==============================] - 0s 14ms/step - loss: 0.9010 - accuracy: 0.8408 - val_loss: 1.4160 - val_accuracy: 0.0000e+00\n",
      "Epoch 6/20\n",
      "9/9 [==============================] - 0s 12ms/step - loss: 0.8742 - accuracy: 0.8408 - val_loss: 1.4908 - val_accuracy: 0.0000e+00\n",
      "Epoch 7/20\n",
      "9/9 [==============================] - 0s 8ms/step - loss: 0.8478 - accuracy: 0.8408 - val_loss: 1.5748 - val_accuracy: 0.0000e+00\n",
      "Epoch 8/20\n",
      "9/9 [==============================] - 0s 10ms/step - loss: 0.8191 - accuracy: 0.8408 - val_loss: 1.6626 - val_accuracy: 0.0000e+00\n",
      "Epoch 9/20\n",
      "9/9 [==============================] - 0s 10ms/step - loss: 0.7966 - accuracy: 0.8408 - val_loss: 1.7545 - val_accuracy: 0.0000e+00\n",
      "Epoch 10/20\n",
      "9/9 [==============================] - 0s 9ms/step - loss: 0.7706 - accuracy: 0.8408 - val_loss: 1.8532 - val_accuracy: 0.0000e+00\n",
      "Epoch 11/20\n",
      "9/9 [==============================] - 0s 8ms/step - loss: 0.7518 - accuracy: 0.8408 - val_loss: 1.9524 - val_accuracy: 0.0000e+00\n",
      "Epoch 12/20\n",
      "9/9 [==============================] - 0s 10ms/step - loss: 0.7260 - accuracy: 0.8408 - val_loss: 2.0596 - val_accuracy: 0.0000e+00\n",
      "Epoch 13/20\n",
      "9/9 [==============================] - 0s 9ms/step - loss: 0.7107 - accuracy: 0.8408 - val_loss: 2.1584 - val_accuracy: 0.0000e+00\n",
      "Epoch 14/20\n",
      "9/9 [==============================] - 0s 9ms/step - loss: 0.6935 - accuracy: 0.8408 - val_loss: 2.2564 - val_accuracy: 0.0000e+00\n",
      "Epoch 15/20\n",
      "9/9 [==============================] - 0s 9ms/step - loss: 0.6771 - accuracy: 0.8408 - val_loss: 2.3527 - val_accuracy: 0.0000e+00\n",
      "Epoch 16/20\n",
      "9/9 [==============================] - 0s 7ms/step - loss: 0.6733 - accuracy: 0.8408 - val_loss: 2.4517 - val_accuracy: 0.0000e+00\n",
      "Epoch 17/20\n",
      "9/9 [==============================] - 0s 8ms/step - loss: 0.6566 - accuracy: 0.8408 - val_loss: 2.5324 - val_accuracy: 0.0000e+00\n",
      "Epoch 18/20\n",
      "9/9 [==============================] - 0s 7ms/step - loss: 0.6453 - accuracy: 0.8408 - val_loss: 2.6240 - val_accuracy: 0.0000e+00\n",
      "Epoch 19/20\n",
      "9/9 [==============================] - 0s 9ms/step - loss: 0.6382 - accuracy: 0.8408 - val_loss: 2.7024 - val_accuracy: 0.0000e+00\n",
      "Epoch 20/20\n",
      "9/9 [==============================] - 0s 8ms/step - loss: 0.6289 - accuracy: 0.8408 - val_loss: 2.7813 - val_accuracy: 0.0000e+00\n",
      "dict_keys(['loss', 'accuracy', 'val_loss', 'val_accuracy'])\n",
      "dict_keys(['loss', 'accuracy', 'val_loss', 'val_accuracy'])\n"
     ]
    },
    {
     "data": {
      "image/png": "[encoded data removed]",
      "text/plain": [
       "<Figure size 432x288 with 1 Axes>"
      ]
     },
     "metadata": {
      "needs_background": "light"
     },
     "output_type": "display_data"
    },
    {
     "data": {
      "image/png": "[encoded data removed]",
      "text/plain": [
       "<Figure size 432x288 with 1 Axes>"
      ]
     },
     "metadata": {
      "needs_background": "light"
     },
     "output_type": "display_data"
    }
   ],
   "source": [
    "def training(model, X_train, y_train):\n",
    "    # Another control put in place to handle overfitting\n",
    "    early_stopping = tf.keras.callbacks.EarlyStopping(monitor='val_loss',verbose=1,patience=20,mode='min',restore_best_weights=True)\n",
    "\n",
    "    opt = tf.keras.optimizers.Adam(learning_rate = 0.0001)\n",
    "\n",
    "    # compile the model and start Training\n",
    " \n",
    "    model.compile(optimizer = opt, loss = 'categorical_crossentropy', metrics = ['accuracy']) \n",
    "\n",
    "    history = model.fit(X_train, y_train,epochs=20,batch_size=64,validation_split=0.2,shuffle=True,callbacks=[early_stopping])\n",
    "    print(history.history.keys())\n",
    "    # plot training performance over the epochs\n",
    "    plot_training(history)\n",
    "    return history\n",
    "\n",
    "history= training(model, X_train, y_train)"
   ]
  },
  {
   "cell_type": "code",
   "execution_count": 402,
   "id": "29581360",
   "metadata": {},
   "outputs": [],
   "source": [
    "import datetime\n",
    "model.save(\"Mobatsim_model/noise\"+f'{datetime.datetime.today().strftime(\"%d-%m-%Y\")}.h5')"
   ]
  },
  {
   "cell_type": "code",
   "execution_count": 74,
   "id": "5db556d5",
   "metadata": {},
   "outputs": [
    {
     "data": {
      "text/plain": [
       "'2.8.0'"
      ]
     },
     "execution_count": 74,
     "metadata": {},
     "output_type": "execute_result"
    }
   ],
   "source": []
  },
  {
   "cell_type": "code",
   "execution_count": null,
   "id": "eef06cc3",
   "metadata": {},
   "outputs": [],
   "source": []
  }
 ],
 "metadata": {
  "kernelspec": {
   "display_name": "Python 3 (ipykernel)",
   "language": "python",
   "name": "python3"
  },
  "language_info": {
   "codemirror_mode": {
    "name": "ipython",
    "version": 3
   },
   "file_extension": ".py",
   "mimetype": "text/x-python",
   "name": "python",
   "nbconvert_exporter": "python",
   "pygments_lexer": "ipython3",
   "version": "3.9.7"
  }
 },
 "nbformat": 4,
 "nbformat_minor": 5
}
