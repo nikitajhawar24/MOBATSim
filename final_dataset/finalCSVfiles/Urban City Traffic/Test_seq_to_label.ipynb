{
 "cells": [
  {
   "cell_type": "code",
   "execution_count": 1,
   "id": "2f99310b",
   "metadata": {},
   "outputs": [],
   "source": [
    "import h5py\n",
    "import numpy as np\n",
    "import pandas as pd\n",
    "import matplotlib.pyplot as plt\n",
    "from os import listdir\n",
    "from os.path import isfile, join"
   ]
  },
  {
   "cell_type": "code",
   "execution_count": 2,
   "id": "7b9d1d5c",
   "metadata": {},
   "outputs": [],
   "source": [
    "import os\n",
    "import yaml\n",
    "\n",
    "import tensorflow as tf\n",
    "\n",
    "from tensorflow.keras.models import Model,Sequential\n",
    "from tensorflow.keras.layers import LSTM, Dropout,Dense,RepeatVector,TimeDistributed,Input,BatchNormalization\n",
    "from tensorflow.keras.layers import Conv1D\n",
    "from tensorflow.keras.layers import MaxPooling1D\n",
    "from tensorflow.keras.layers import Flatten\n",
    "\n",
    "from tensorflow.keras.callbacks import TensorBoard\n",
    "from tensorflow.keras.callbacks import ModelCheckpoint\n",
    "from tensorflow.keras.callbacks import LearningRateScheduler\n",
    "from tensorflow.keras.optimizers import Adam as adam\n",
    "\n",
    "from sklearn.model_selection import train_test_split\n",
    "from sklearn.metrics import classification_report\n",
    "from sklearn.metrics import confusion_matrix\n",
    "from tensorflow.keras.models import load_model"
   ]
  },
  {
   "cell_type": "code",
   "execution_count": 104,
   "id": "568b139b",
   "metadata": {},
   "outputs": [],
   "source": [
    "data_path = \"C:\\\\Users\\INT004435\\\\Downloads\\\\Noise\\\\\""
   ]
  },
  {
   "cell_type": "code",
   "execution_count": 105,
   "id": "45265e6a",
   "metadata": {},
   "outputs": [],
   "source": [
    "df1 = pd.read_csv(data_path + \"Road Merge Collision_Noise_faultduration_5_V6.csv\")\n",
    "lis = []\n",
    "for i in range(1,17):\n",
    "    if i/2 != 1:\n",
    "        lis1 = [1]*250 #1 for noise #2 offset \n",
    "        lis.extend(lis1)\n",
    "    else:\n",
    "        lis2 = [0]*250\n",
    "        lis.extend(lis2)\n",
    "        \n",
    "lis.pop()\n",
    "df1['label'] = lis"
   ]
  },
  {
   "cell_type": "code",
   "execution_count": 106,
   "id": "44dcfc9b",
   "metadata": {},
   "outputs": [],
   "source": [
    "data_path = \"C:\\\\Users\\INT004435\\\\Downloads\\\\FaultFree\\\\\""
   ]
  },
  {
   "cell_type": "code",
   "execution_count": 107,
   "id": "97e015f5",
   "metadata": {},
   "outputs": [],
   "source": [
    "df2 = pd.read_csv(data_path + \"Road Merge Collision_sample_faultfree_V6.csv\")\n",
    "lis = [0]*4000\n",
    "#for i in range(1,17):\n",
    "#    if i/2 != 1:\n",
    "#        lis1 = [1]*250 #1 for noise #2 offset \n",
    "#        lis.extend(lis1)\n",
    "#    else:\n",
    "#        lis2 = [0]*250\n",
    "#        lis.extend(lis2)\n",
    "        \n",
    "lis.pop()\n",
    "df2['label'] = lis"
   ]
  },
  {
   "cell_type": "code",
   "execution_count": 108,
   "id": "47701d37",
   "metadata": {},
   "outputs": [
    {
     "name": "stdout",
     "output_type": "stream",
     "text": [
      "<class 'pandas.core.frame.DataFrame'>\n",
      "Int64Index: 7998 entries, 0 to 3998\n",
      "Data columns (total 6 columns):\n",
      " #   Column       Non-Null Count  Dtype  \n",
      "---  ------       --------------  -----  \n",
      " 0   Time         7998 non-null   float64\n",
      " 1   Speed        7998 non-null   float64\n",
      " 2   Rotation     7998 non-null   float64\n",
      " 3   Position     7998 non-null   float64\n",
      " 4   Translation  7998 non-null   float64\n",
      " 5   label        7998 non-null   int64  \n",
      "dtypes: float64(5), int64(1)\n",
      "memory usage: 437.4 KB\n"
     ]
    },
    {
     "data": {
      "text/plain": [
       "array([1, 0], dtype=int64)"
      ]
     },
     "execution_count": 108,
     "metadata": {},
     "output_type": "execute_result"
    }
   ],
   "source": [
    "df=pd.concat([df1, df2])\n",
    "df.info()\n",
    "df['label'].unique()"
   ]
  },
  {
   "cell_type": "code",
   "execution_count": 109,
   "id": "5664006e",
   "metadata": {},
   "outputs": [
    {
     "data": {
      "text/plain": [
       "(7998, 6)"
      ]
     },
     "execution_count": 109,
     "metadata": {},
     "output_type": "execute_result"
    }
   ],
   "source": [
    "df.shape"
   ]
  },
  {
   "cell_type": "code",
   "execution_count": 110,
   "id": "243d2c86",
   "metadata": {},
   "outputs": [],
   "source": [
    "y = df['label']\n",
    "X = df['Speed']"
   ]
  },
  {
   "cell_type": "code",
   "execution_count": 111,
   "id": "43b23f0a",
   "metadata": {},
   "outputs": [],
   "source": [
    "\n",
    "from sklearn.preprocessing import RobustScaler\n",
    "X = X.values.reshape(-1,1) #remove for multiclass\n",
    "scaler = RobustScaler()\n",
    "\n",
    "x = scaler.fit_transform(X)"
   ]
  },
  {
   "cell_type": "code",
   "execution_count": 112,
   "id": "c68e511f",
   "metadata": {},
   "outputs": [],
   "source": [
    "n_features = 1"
   ]
  },
  {
   "cell_type": "code",
   "execution_count": 113,
   "id": "e5cac22a",
   "metadata": {},
   "outputs": [],
   "source": [
    "from scipy import stats\n",
    "\n",
    "def create_dataset(X, y, time_steps=1, step=1):\n",
    "    Xs, ys = [], []\n",
    "    for i in range(0, len(X) - time_steps, step):\n",
    "        v = X[i:(i + time_steps)]\n",
    "        labels = y.iloc[i: i + time_steps]\n",
    "        Xs.append(v)        \n",
    "        ys.append(stats.mode(labels)[0][0])\n",
    "    return np.array(Xs), np.array(ys).reshape(-1, 1)\n",
    "\n",
    "TIME_STEPS = 64\n",
    "STEP = 40\n",
    "\n",
    "X_test, y_test = create_dataset(\n",
    "    x, \n",
    "    y, \n",
    "    TIME_STEPS, \n",
    "    STEP\n",
    ")\n"
   ]
  },
  {
   "cell_type": "code",
   "execution_count": 114,
   "id": "d995cee8",
   "metadata": {},
   "outputs": [
    {
     "data": {
      "text/plain": [
       "(199, 64, 1)"
      ]
     },
     "execution_count": 114,
     "metadata": {},
     "output_type": "execute_result"
    }
   ],
   "source": [
    "X_test.shape"
   ]
  },
  {
   "cell_type": "code",
   "execution_count": 115,
   "id": "ed5d3b1a",
   "metadata": {},
   "outputs": [],
   "source": [
    "X_test = X_test.reshape(199,4,int(TIME_STEPS/4),n_features)"
   ]
  },
  {
   "cell_type": "code",
   "execution_count": 116,
   "id": "e7e326ec",
   "metadata": {},
   "outputs": [
    {
     "name": "stdout",
     "output_type": "stream",
     "text": [
      "(199, 4, 16, 1) (199, 1)\n"
     ]
    }
   ],
   "source": [
    "print(X_test.shape, y_test.shape)"
   ]
  },
  {
   "cell_type": "code",
   "execution_count": 117,
   "id": "14a1ad25",
   "metadata": {},
   "outputs": [
    {
     "name": "stdout",
     "output_type": "stream",
     "text": [
      "[[  0 105]\n",
      " [  1  94]]\n"
     ]
    }
   ],
   "source": [
    "unique, counts = np.unique(y_test, return_counts=True)\n",
    "\n",
    "print(np.asarray((unique, counts)).T)"
   ]
  },
  {
   "cell_type": "code",
   "execution_count": 118,
   "id": "c598efcd",
   "metadata": {},
   "outputs": [],
   "source": [
    "from sklearn.preprocessing import OneHotEncoder\n",
    "\n",
    "enc = OneHotEncoder(handle_unknown='ignore', sparse=False)\n",
    "\n",
    "enc = enc.fit(y_test)\n",
    "\n",
    "y_test = enc.transform(y_test)"
   ]
  },
  {
   "cell_type": "code",
   "execution_count": 119,
   "id": "e919ef33",
   "metadata": {},
   "outputs": [
    {
     "name": "stdout",
     "output_type": "stream",
     "text": [
      "(199, 4, 16, 1) (199, 2)\n"
     ]
    }
   ],
   "source": [
    "print(X_test.shape, y_test.shape)"
   ]
  },
  {
   "cell_type": "code",
   "execution_count": 120,
   "id": "10d1205e",
   "metadata": {},
   "outputs": [
    {
     "name": "stdout",
     "output_type": "stream",
     "text": [
      "Model: \"sequential_37\"\n",
      "_________________________________________________________________\n",
      " Layer (type)                Output Shape              Param #   \n",
      "=================================================================\n",
      " time_distributed_95 (TimeDi  (None, 4, 16, 1)         0         \n",
      " stributed)                                                      \n",
      "                                                                 \n",
      " time_distributed_96 (TimeDi  (None, 4, 16)            0         \n",
      " stributed)                                                      \n",
      "                                                                 \n",
      " lstm_36 (LSTM)              (None, 30)                5640      \n",
      "                                                                 \n",
      " dropout_50 (Dropout)        (None, 30)                0         \n",
      "                                                                 \n",
      " dense_72 (Dense)            (None, 150)               4650      \n",
      "                                                                 \n",
      " dense_73 (Dense)            (None, 2)                 302       \n",
      "                                                                 \n",
      "=================================================================\n",
      "Total params: 10,592\n",
      "Trainable params: 10,592\n",
      "Non-trainable params: 0\n",
      "_________________________________________________________________\n"
     ]
    }
   ],
   "source": [
    "model = load_model('Mobatsim_model/noise17-05-2022.h5')\n",
    "model.summary()"
   ]
  },
  {
   "cell_type": "code",
   "execution_count": 96,
   "id": "f0c24df9",
   "metadata": {},
   "outputs": [
    {
     "name": "stdout",
     "output_type": "stream",
     "text": [
      "Evaluate on test data\n"
     ]
    },
    {
     "ename": "ValueError",
     "evalue": "in user code:\n\n    File \"C:\\Users\\INT004435\\Anaconda3\\lib\\site-packages\\keras\\engine\\training.py\", line 1525, in test_function  *\n        return step_function(self, iterator)\n    File \"C:\\Users\\INT004435\\Anaconda3\\lib\\site-packages\\keras\\engine\\training.py\", line 1514, in step_function  **\n        outputs = model.distribute_strategy.run(run_step, args=(data,))\n    File \"C:\\Users\\INT004435\\Anaconda3\\lib\\site-packages\\keras\\engine\\training.py\", line 1507, in run_step  **\n        outputs = model.test_step(data)\n    File \"C:\\Users\\INT004435\\Anaconda3\\lib\\site-packages\\keras\\engine\\training.py\", line 1473, in test_step\n        self.compute_loss(x, y, y_pred, sample_weight)\n    File \"C:\\Users\\INT004435\\Anaconda3\\lib\\site-packages\\keras\\engine\\training.py\", line 918, in compute_loss\n        return self.compiled_loss(\n    File \"C:\\Users\\INT004435\\Anaconda3\\lib\\site-packages\\keras\\engine\\compile_utils.py\", line 201, in __call__\n        loss_value = loss_obj(y_t, y_p, sample_weight=sw)\n    File \"C:\\Users\\INT004435\\Anaconda3\\lib\\site-packages\\keras\\losses.py\", line 141, in __call__\n        losses = call_fn(y_true, y_pred)\n    File \"C:\\Users\\INT004435\\Anaconda3\\lib\\site-packages\\keras\\losses.py\", line 245, in call  **\n        return ag_fn(y_true, y_pred, **self._fn_kwargs)\n    File \"C:\\Users\\INT004435\\Anaconda3\\lib\\site-packages\\keras\\losses.py\", line 1789, in categorical_crossentropy\n        return backend.categorical_crossentropy(\n    File \"C:\\Users\\INT004435\\Anaconda3\\lib\\site-packages\\keras\\backend.py\", line 5083, in categorical_crossentropy\n        target.shape.assert_is_compatible_with(output.shape)\n\n    ValueError: Shapes (None, 1) and (None, 2) are incompatible\n",
     "output_type": "error",
     "traceback": [
      "\u001b[1;31m---------------------------------------------------------------------------\u001b[0m",
      "\u001b[1;31mValueError\u001b[0m                                Traceback (most recent call last)",
      "\u001b[1;32mC:\\Users\\INT004~1\\AppData\\Local\\Temp\\1/ipykernel_24832/2040531501.py\u001b[0m in \u001b[0;36m<module>\u001b[1;34m\u001b[0m\n\u001b[0;32m      1\u001b[0m \u001b[0mprint\u001b[0m\u001b[1;33m(\u001b[0m\u001b[1;34m\"Evaluate on test data\"\u001b[0m\u001b[1;33m)\u001b[0m\u001b[1;33m\u001b[0m\u001b[1;33m\u001b[0m\u001b[0m\n\u001b[1;32m----> 2\u001b[1;33m \u001b[0mresults\u001b[0m \u001b[1;33m=\u001b[0m \u001b[0mmodel\u001b[0m\u001b[1;33m.\u001b[0m\u001b[0mevaluate\u001b[0m\u001b[1;33m(\u001b[0m\u001b[0mX_test\u001b[0m\u001b[1;33m,\u001b[0m \u001b[0my_test\u001b[0m\u001b[1;33m)\u001b[0m\u001b[1;33m\u001b[0m\u001b[1;33m\u001b[0m\u001b[0m\n\u001b[0m\u001b[0;32m      3\u001b[0m \u001b[0mprint\u001b[0m\u001b[1;33m(\u001b[0m\u001b[1;34m\"Metrics are: \"\u001b[0m\u001b[1;33m,\u001b[0m \u001b[0mresults\u001b[0m\u001b[1;33m)\u001b[0m\u001b[1;33m\u001b[0m\u001b[1;33m\u001b[0m\u001b[0m\n",
      "\u001b[1;32m~\\Anaconda3\\lib\\site-packages\\keras\\utils\\traceback_utils.py\u001b[0m in \u001b[0;36merror_handler\u001b[1;34m(*args, **kwargs)\u001b[0m\n\u001b[0;32m     65\u001b[0m     \u001b[1;32mexcept\u001b[0m \u001b[0mException\u001b[0m \u001b[1;32mas\u001b[0m \u001b[0me\u001b[0m\u001b[1;33m:\u001b[0m  \u001b[1;31m# pylint: disable=broad-except\u001b[0m\u001b[1;33m\u001b[0m\u001b[1;33m\u001b[0m\u001b[0m\n\u001b[0;32m     66\u001b[0m       \u001b[0mfiltered_tb\u001b[0m \u001b[1;33m=\u001b[0m \u001b[0m_process_traceback_frames\u001b[0m\u001b[1;33m(\u001b[0m\u001b[0me\u001b[0m\u001b[1;33m.\u001b[0m\u001b[0m__traceback__\u001b[0m\u001b[1;33m)\u001b[0m\u001b[1;33m\u001b[0m\u001b[1;33m\u001b[0m\u001b[0m\n\u001b[1;32m---> 67\u001b[1;33m       \u001b[1;32mraise\u001b[0m \u001b[0me\u001b[0m\u001b[1;33m.\u001b[0m\u001b[0mwith_traceback\u001b[0m\u001b[1;33m(\u001b[0m\u001b[0mfiltered_tb\u001b[0m\u001b[1;33m)\u001b[0m \u001b[1;32mfrom\u001b[0m \u001b[1;32mNone\u001b[0m\u001b[1;33m\u001b[0m\u001b[1;33m\u001b[0m\u001b[0m\n\u001b[0m\u001b[0;32m     68\u001b[0m     \u001b[1;32mfinally\u001b[0m\u001b[1;33m:\u001b[0m\u001b[1;33m\u001b[0m\u001b[1;33m\u001b[0m\u001b[0m\n\u001b[0;32m     69\u001b[0m       \u001b[1;32mdel\u001b[0m \u001b[0mfiltered_tb\u001b[0m\u001b[1;33m\u001b[0m\u001b[1;33m\u001b[0m\u001b[0m\n",
      "\u001b[1;32m~\\Anaconda3\\lib\\site-packages\\tensorflow\\python\\framework\\func_graph.py\u001b[0m in \u001b[0;36mautograph_handler\u001b[1;34m(*args, **kwargs)\u001b[0m\n\u001b[0;32m   1145\u001b[0m           \u001b[1;32mexcept\u001b[0m \u001b[0mException\u001b[0m \u001b[1;32mas\u001b[0m \u001b[0me\u001b[0m\u001b[1;33m:\u001b[0m  \u001b[1;31m# pylint:disable=broad-except\u001b[0m\u001b[1;33m\u001b[0m\u001b[1;33m\u001b[0m\u001b[0m\n\u001b[0;32m   1146\u001b[0m             \u001b[1;32mif\u001b[0m \u001b[0mhasattr\u001b[0m\u001b[1;33m(\u001b[0m\u001b[0me\u001b[0m\u001b[1;33m,\u001b[0m \u001b[1;34m\"ag_error_metadata\"\u001b[0m\u001b[1;33m)\u001b[0m\u001b[1;33m:\u001b[0m\u001b[1;33m\u001b[0m\u001b[1;33m\u001b[0m\u001b[0m\n\u001b[1;32m-> 1147\u001b[1;33m               \u001b[1;32mraise\u001b[0m \u001b[0me\u001b[0m\u001b[1;33m.\u001b[0m\u001b[0mag_error_metadata\u001b[0m\u001b[1;33m.\u001b[0m\u001b[0mto_exception\u001b[0m\u001b[1;33m(\u001b[0m\u001b[0me\u001b[0m\u001b[1;33m)\u001b[0m\u001b[1;33m\u001b[0m\u001b[1;33m\u001b[0m\u001b[0m\n\u001b[0m\u001b[0;32m   1148\u001b[0m             \u001b[1;32melse\u001b[0m\u001b[1;33m:\u001b[0m\u001b[1;33m\u001b[0m\u001b[1;33m\u001b[0m\u001b[0m\n\u001b[0;32m   1149\u001b[0m               \u001b[1;32mraise\u001b[0m\u001b[1;33m\u001b[0m\u001b[1;33m\u001b[0m\u001b[0m\n",
      "\u001b[1;31mValueError\u001b[0m: in user code:\n\n    File \"C:\\Users\\INT004435\\Anaconda3\\lib\\site-packages\\keras\\engine\\training.py\", line 1525, in test_function  *\n        return step_function(self, iterator)\n    File \"C:\\Users\\INT004435\\Anaconda3\\lib\\site-packages\\keras\\engine\\training.py\", line 1514, in step_function  **\n        outputs = model.distribute_strategy.run(run_step, args=(data,))\n    File \"C:\\Users\\INT004435\\Anaconda3\\lib\\site-packages\\keras\\engine\\training.py\", line 1507, in run_step  **\n        outputs = model.test_step(data)\n    File \"C:\\Users\\INT004435\\Anaconda3\\lib\\site-packages\\keras\\engine\\training.py\", line 1473, in test_step\n        self.compute_loss(x, y, y_pred, sample_weight)\n    File \"C:\\Users\\INT004435\\Anaconda3\\lib\\site-packages\\keras\\engine\\training.py\", line 918, in compute_loss\n        return self.compiled_loss(\n    File \"C:\\Users\\INT004435\\Anaconda3\\lib\\site-packages\\keras\\engine\\compile_utils.py\", line 201, in __call__\n        loss_value = loss_obj(y_t, y_p, sample_weight=sw)\n    File \"C:\\Users\\INT004435\\Anaconda3\\lib\\site-packages\\keras\\losses.py\", line 141, in __call__\n        losses = call_fn(y_true, y_pred)\n    File \"C:\\Users\\INT004435\\Anaconda3\\lib\\site-packages\\keras\\losses.py\", line 245, in call  **\n        return ag_fn(y_true, y_pred, **self._fn_kwargs)\n    File \"C:\\Users\\INT004435\\Anaconda3\\lib\\site-packages\\keras\\losses.py\", line 1789, in categorical_crossentropy\n        return backend.categorical_crossentropy(\n    File \"C:\\Users\\INT004435\\Anaconda3\\lib\\site-packages\\keras\\backend.py\", line 5083, in categorical_crossentropy\n        target.shape.assert_is_compatible_with(output.shape)\n\n    ValueError: Shapes (None, 1) and (None, 2) are incompatible\n"
     ]
    }
   ],
   "source": [
    "print(\"Evaluate on test data\")\n",
    "results = model.evaluate(X_test, y_test)\n",
    "print(\"Metrics are: \", results)"
   ]
  },
  {
   "cell_type": "code",
   "execution_count": 121,
   "id": "c758ef2c",
   "metadata": {},
   "outputs": [
    {
     "data": {
      "text/plain": [
       "199"
      ]
     },
     "execution_count": 121,
     "metadata": {},
     "output_type": "execute_result"
    }
   ],
   "source": [
    "len(X_test)"
   ]
  },
  {
   "cell_type": "code",
   "execution_count": 122,
   "id": "a79cb249",
   "metadata": {},
   "outputs": [
    {
     "name": "stdout",
     "output_type": "stream",
     "text": [
      "WARNING:tensorflow:5 out of the last 10 calls to <function Model.make_predict_function.<locals>.predict_function at 0x000002671EA91670> triggered tf.function retracing. Tracing is expensive and the excessive number of tracings could be due to (1) creating @tf.function repeatedly in a loop, (2) passing tensors with different shapes, (3) passing Python objects instead of tensors. For (1), please define your @tf.function outside of the loop. For (2), @tf.function has experimental_relax_shapes=True option that relaxes argument shapes that can avoid unnecessary retracing. For (3), please refer to https://www.tensorflow.org/guide/function#controlling_retracing and https://www.tensorflow.org/api_docs/python/tf/function for  more details.\n"
     ]
    }
   ],
   "source": [
    "y_pred = model.predict(X_test,batch_size=199)"
   ]
  },
  {
   "cell_type": "code",
   "execution_count": 123,
   "id": "ba2f7216",
   "metadata": {},
   "outputs": [
    {
     "data": {
      "text/plain": [
       "array([[0.15708728, 0.8429128 ],\n",
       "       [0.1354892 , 0.86451083],\n",
       "       [0.12701625, 0.87298375],\n",
       "       [0.14179096, 0.858209  ],\n",
       "       [0.17936696, 0.82063305],\n",
       "       [0.22386521, 0.7761347 ],\n",
       "       [0.31291342, 0.6870865 ],\n",
       "       [0.42336515, 0.57663494],\n",
       "       [0.43787214, 0.5621278 ],\n",
       "       [0.4039735 , 0.5960265 ],\n",
       "       [0.38999885, 0.61000115],\n",
       "       [0.3848932 , 0.6151068 ],\n",
       "       [0.44410247, 0.55589753],\n",
       "       [0.36248252, 0.63751745],\n",
       "       [0.29998624, 0.70001376],\n",
       "       [0.272477  , 0.727523  ],\n",
       "       [0.2576288 , 0.7423712 ],\n",
       "       [0.25942147, 0.74057853],\n",
       "       [0.28573632, 0.7142637 ],\n",
       "       [0.38322684, 0.61677325],\n",
       "       [0.45165372, 0.5483462 ],\n",
       "       [0.41390687, 0.5860931 ],\n",
       "       [0.39410678, 0.60589325],\n",
       "       [0.38583422, 0.6141658 ],\n",
       "       [0.40078035, 0.5992197 ],\n",
       "       [0.40270656, 0.59729344],\n",
       "       [0.30125487, 0.69874513],\n",
       "       [0.27027288, 0.7297271 ],\n",
       "       [0.27100387, 0.7289961 ],\n",
       "       [0.26391146, 0.7360886 ],\n",
       "       [0.26092905, 0.73907095],\n",
       "       [0.32908157, 0.6709185 ],\n",
       "       [0.4341324 , 0.5658676 ],\n",
       "       [0.43214846, 0.56785154],\n",
       "       [0.40148658, 0.5985135 ],\n",
       "       [0.3889645 , 0.61103547],\n",
       "       [0.38472918, 0.61527085],\n",
       "       [0.4332661 , 0.56673396],\n",
       "       [0.32165638, 0.6783436 ],\n",
       "       [0.2863527 , 0.7136473 ],\n",
       "       [0.2732756 , 0.7267244 ],\n",
       "       [0.26676413, 0.73323584],\n",
       "       [0.27383304, 0.72616696],\n",
       "       [0.32535556, 0.6746445 ],\n",
       "       [0.42092547, 0.5790745 ],\n",
       "       [0.19941346, 0.8005865 ],\n",
       "       [0.1333075 , 0.86669254],\n",
       "       [0.13992326, 0.8600767 ],\n",
       "       [0.14766006, 0.85234   ],\n",
       "       [0.152889  , 0.847111  ],\n",
       "       [0.156459  , 0.843541  ],\n",
       "       [0.15924457, 0.84075546],\n",
       "       [0.16158076, 0.8384193 ],\n",
       "       [0.16357192, 0.83642805],\n",
       "       [0.16527833, 0.8347217 ],\n",
       "       [0.16670218, 0.8332978 ],\n",
       "       [0.1679133 , 0.8320867 ],\n",
       "       [0.16897723, 0.83102274],\n",
       "       [0.16991325, 0.83008677],\n",
       "       [0.1707519 , 0.8292481 ],\n",
       "       [0.157529  , 0.84247094],\n",
       "       [0.13540757, 0.86459243],\n",
       "       [0.12685494, 0.8731451 ],\n",
       "       [0.14377911, 0.85622084],\n",
       "       [0.17669123, 0.82330877],\n",
       "       [0.20506012, 0.7949399 ],\n",
       "       [0.22875698, 0.771243  ],\n",
       "       [0.2508006 , 0.7491994 ],\n",
       "       [0.29745373, 0.7025463 ],\n",
       "       [0.3986549 , 0.601345  ],\n",
       "       [0.4488319 , 0.551168  ],\n",
       "       [0.40991578, 0.59008425],\n",
       "       [0.39246565, 0.60753435],\n",
       "       [0.38513052, 0.6148695 ],\n",
       "       [0.4230872 , 0.5769128 ],\n",
       "       [0.36836547, 0.63163453],\n",
       "       [0.29401925, 0.7059808 ],\n",
       "       [0.26477623, 0.7352238 ],\n",
       "       [0.25294518, 0.7470548 ],\n",
       "       [0.25647956, 0.74352044],\n",
       "       [0.2670199 , 0.7329801 ],\n",
       "       [0.33893546, 0.6610645 ],\n",
       "       [0.44078457, 0.5592154 ],\n",
       "       [0.42825875, 0.5717412 ],\n",
       "       [0.39993322, 0.6000668 ],\n",
       "       [0.3883095 , 0.6116905 ],\n",
       "       [0.38505188, 0.6149481 ],\n",
       "       [0.4344328 , 0.5655672 ],\n",
       "       [0.3193424 , 0.6806576 ],\n",
       "       [0.2886044 , 0.71139556],\n",
       "       [0.26196435, 0.7380357 ],\n",
       "       [0.25662607, 0.743374  ],\n",
       "       [0.2559715 , 0.7440285 ],\n",
       "       [0.29272807, 0.7072719 ],\n",
       "       [0.39300713, 0.60699284],\n",
       "       [0.45030904, 0.54969096],\n",
       "       [0.41134787, 0.5886521 ],\n",
       "       [0.39305678, 0.60694325],\n",
       "       [0.38538498, 0.6146151 ],\n",
       "       [0.2135218 , 0.7864782 ],\n",
       "       [0.15658265, 0.84341735],\n",
       "       [0.13505425, 0.86494577],\n",
       "       [0.13007727, 0.8699227 ],\n",
       "       [0.17416085, 0.82583916],\n",
       "       [0.292843  , 0.7071569 ],\n",
       "       [0.41032273, 0.5896772 ],\n",
       "       [0.4446532 , 0.5553468 ],\n",
       "       [0.40705234, 0.5929477 ],\n",
       "       [0.39128214, 0.60871786],\n",
       "       [0.38462067, 0.6153794 ],\n",
       "       [0.38173753, 0.6182624 ],\n",
       "       [0.38049275, 0.61950725],\n",
       "       [0.37994882, 0.6200512 ],\n",
       "       [0.37971127, 0.6202888 ],\n",
       "       [0.37960723, 0.62039274],\n",
       "       [0.3795617 , 0.6204383 ],\n",
       "       [0.3795418 , 0.6204582 ],\n",
       "       [0.37953302, 0.62046695],\n",
       "       [0.3795292 , 0.6204708 ],\n",
       "       [0.37952754, 0.6204725 ],\n",
       "       [0.37952682, 0.6204732 ],\n",
       "       [0.3795265 , 0.6204735 ],\n",
       "       [0.37952638, 0.6204737 ],\n",
       "       [0.37952626, 0.62047374],\n",
       "       [0.37952626, 0.62047374],\n",
       "       [0.37952623, 0.62047374],\n",
       "       [0.37952623, 0.62047374],\n",
       "       [0.37952623, 0.62047374],\n",
       "       [0.37952623, 0.62047374],\n",
       "       [0.37952623, 0.62047374],\n",
       "       [0.37952623, 0.62047374],\n",
       "       [0.37952623, 0.62047374],\n",
       "       [0.37952623, 0.62047374],\n",
       "       [0.37952623, 0.62047374],\n",
       "       [0.37952623, 0.62047374],\n",
       "       [0.37952623, 0.62047374],\n",
       "       [0.37952623, 0.62047374],\n",
       "       [0.37952623, 0.62047374],\n",
       "       [0.37952623, 0.62047374],\n",
       "       [0.37952623, 0.62047374],\n",
       "       [0.37952623, 0.62047374],\n",
       "       [0.37952623, 0.62047374],\n",
       "       [0.37952623, 0.62047374],\n",
       "       [0.39182988, 0.60817015],\n",
       "       [0.19097394, 0.809026  ],\n",
       "       [0.13336551, 0.86663455],\n",
       "       [0.14091225, 0.85908777],\n",
       "       [0.14840555, 0.85159445],\n",
       "       [0.15338965, 0.8466103 ],\n",
       "       [0.15684998, 0.8431501 ],\n",
       "       [0.15956855, 0.8404314 ],\n",
       "       [0.16186146, 0.8381386 ],\n",
       "       [0.16381253, 0.8361874 ],\n",
       "       [0.16548611, 0.8345139 ],\n",
       "       [0.16687255, 0.83312744],\n",
       "       [0.16806221, 0.83193785],\n",
       "       [0.16910866, 0.8308913 ],\n",
       "       [0.17003013, 0.8299698 ],\n",
       "       [0.16630614, 0.8336938 ],\n",
       "       [0.14559467, 0.85440534],\n",
       "       [0.12967163, 0.87032837],\n",
       "       [0.1433054 , 0.85669464],\n",
       "       [0.22613184, 0.7738681 ],\n",
       "       [0.35288727, 0.6471127 ],\n",
       "       [0.448738  , 0.55126196],\n",
       "       [0.42258874, 0.5774112 ],\n",
       "       [0.39766356, 0.6023364 ],\n",
       "       [0.3873469 , 0.6126531 ],\n",
       "       [0.38291994, 0.6170801 ],\n",
       "       [0.38100404, 0.6189959 ],\n",
       "       [0.38017234, 0.6198276 ],\n",
       "       [0.37980887, 0.6201911 ],\n",
       "       [0.37964997, 0.62034994],\n",
       "       [0.37958044, 0.62041956],\n",
       "       [0.37954995, 0.62045   ],\n",
       "       [0.3795366 , 0.6204634 ],\n",
       "       [0.37953076, 0.6204692 ],\n",
       "       [0.37952822, 0.6204718 ],\n",
       "       [0.37952712, 0.6204729 ],\n",
       "       [0.37952664, 0.6204734 ],\n",
       "       [0.37952638, 0.62047356],\n",
       "       [0.3795263 , 0.6204737 ],\n",
       "       [0.37952626, 0.62047374],\n",
       "       [0.37952623, 0.62047374],\n",
       "       [0.37952623, 0.62047374],\n",
       "       [0.37952623, 0.62047374],\n",
       "       [0.37952623, 0.62047374],\n",
       "       [0.37952623, 0.62047374],\n",
       "       [0.37952623, 0.62047374],\n",
       "       [0.37952623, 0.62047374],\n",
       "       [0.37952623, 0.62047374],\n",
       "       [0.37952623, 0.62047374],\n",
       "       [0.37952623, 0.62047374],\n",
       "       [0.37952623, 0.62047374],\n",
       "       [0.37952623, 0.62047374],\n",
       "       [0.37952623, 0.62047374],\n",
       "       [0.37952623, 0.62047374],\n",
       "       [0.37952623, 0.62047374],\n",
       "       [0.37952623, 0.62047374]], dtype=float32)"
      ]
     },
     "execution_count": 123,
     "metadata": {},
     "output_type": "execute_result"
    }
   ],
   "source": [
    "y_pred"
   ]
  },
  {
   "cell_type": "code",
   "execution_count": 124,
   "id": "61fc2163",
   "metadata": {},
   "outputs": [],
   "source": [
    "y_test = enc.inverse_transform(y_test)\n",
    "y_pred = enc.inverse_transform(y_pred)"
   ]
  },
  {
   "cell_type": "code",
   "execution_count": 125,
   "id": "b4ec40a7",
   "metadata": {},
   "outputs": [
    {
     "name": "stdout",
     "output_type": "stream",
     "text": [
      "              precision    recall  f1-score   support\n",
      "\n",
      "           0       0.00      0.00      0.00       105\n",
      "           1       0.47      1.00      0.64        94\n",
      "\n",
      "    accuracy                           0.47       199\n",
      "   macro avg       0.24      0.50      0.32       199\n",
      "weighted avg       0.22      0.47      0.30       199\n",
      "\n"
     ]
    },
    {
     "name": "stderr",
     "output_type": "stream",
     "text": [
      "C:\\Users\\INT004435\\Anaconda3\\lib\\site-packages\\sklearn\\metrics\\_classification.py:1248: UndefinedMetricWarning: Precision and F-score are ill-defined and being set to 0.0 in labels with no predicted samples. Use `zero_division` parameter to control this behavior.\n",
      "  _warn_prf(average, modifier, msg_start, len(result))\n",
      "C:\\Users\\INT004435\\Anaconda3\\lib\\site-packages\\sklearn\\metrics\\_classification.py:1248: UndefinedMetricWarning: Precision and F-score are ill-defined and being set to 0.0 in labels with no predicted samples. Use `zero_division` parameter to control this behavior.\n",
      "  _warn_prf(average, modifier, msg_start, len(result))\n",
      "C:\\Users\\INT004435\\Anaconda3\\lib\\site-packages\\sklearn\\metrics\\_classification.py:1248: UndefinedMetricWarning: Precision and F-score are ill-defined and being set to 0.0 in labels with no predicted samples. Use `zero_division` parameter to control this behavior.\n",
      "  _warn_prf(average, modifier, msg_start, len(result))\n"
     ]
    }
   ],
   "source": [
    "print(classification_report(y_test, y_pred))"
   ]
  },
  {
   "cell_type": "code",
   "execution_count": null,
   "id": "9b19d100",
   "metadata": {},
   "outputs": [],
   "source": []
  }
 ],
 "metadata": {
  "kernelspec": {
   "display_name": "Python 3 (ipykernel)",
   "language": "python",
   "name": "python3"
  },
  "language_info": {
   "codemirror_mode": {
    "name": "ipython",
    "version": 3
   },
   "file_extension": ".py",
   "mimetype": "text/x-python",
   "name": "python",
   "nbconvert_exporter": "python",
   "pygments_lexer": "ipython3",
   "version": "3.9.7"
  }
 },
 "nbformat": 4,
 "nbformat_minor": 5
}
